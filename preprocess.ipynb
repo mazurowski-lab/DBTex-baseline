{
 "cells": [
  {
   "cell_type": "markdown",
   "id": "d2c5847b-c11c-4616-b194-84e397492ebc",
   "metadata": {},
   "source": [
    "## Load packages and import tables"
   ]
  },
  {
   "cell_type": "code",
   "execution_count": 1,
   "id": "bea09ea7-90a2-4d58-9785-5f34a1ea4c6f",
   "metadata": {},
   "outputs": [],
   "source": [
    "# this s cript is for preparing the training dataset and json files.\n",
    "import pandas as pd\n",
    "from duke_dbt_data import dcmread_image\n",
    "import pydicom as dicom\n",
    "import matplotlib.pyplot as plt\n",
    "import numpy as np\n",
    "import imageio\n",
    "from PIL import Image, ImageOps"
   ]
  },
  {
   "cell_type": "code",
   "execution_count": null,
   "id": "a47c3303-2180-49f6-b73d-cb91cd6c5f2f",
   "metadata": {},
   "outputs": [],
   "source": [
    "# read data path\n",
    "basic_path =  'the path to save dicom images' # the path to save the images\n",
    "csv_path ='./data_csv/'# the path to svae the labels and tables\n",
    "data_type ='train' # or val or test\n",
    "path_table = pd.DataFrame(pd.read_csv(csv_path +'BCS-DBT file-paths-'+ data_type + '.csv'))\n",
    "path_list = path_table['descriptive_path']\n",
    "view_list = path_table['View']\n",
    "target_list = basic_path + data_type + '/manifest-xxxxxxxx/' + path_list # the list of your final dicom images path\n",
    "box_table = pd.DataFrame(pd.read_csv(csv_path +'BCS-DBT boxes-'+ data_type + '.csv'))\n",
    "label_list = pd.DataFrame(pd.read_csv(csv_path +'BCS-DBT labels-'+ data_type +'.csv'))"
   ]
  },
  {
   "cell_type": "markdown",
   "id": "d08c0a4e-fb63-426c-956c-7f5206d48c7b",
   "metadata": {},
   "source": [
    "## Read and save dicom images as png slices"
   ]
  },
  {
   "cell_type": "code",
   "execution_count": null,
   "id": "6652c050-e00f-4ee4-b58b-5e2d6f815d4b",
   "metadata": {},
   "outputs": [],
   "source": [
    "df = pd.DataFrame(columns = ['StudyUID', 'view','img_path', 'Normal','Actionable','Benign' ,'Cancer'])"
   ]
  },
  {
   "cell_type": "code",
   "execution_count": null,
   "id": "e0ecd42b-2293-4172-8661-bf2f2b36fd31",
   "metadata": {},
   "outputs": [],
   "source": [
    "save_path = './images/' + data_type + '/'\n",
    "img_cnt = 0\n",
    "for i in range(len(target_list)):\n",
    "    # get the side of this image, the first letter\n",
    "    side = view_list[i][0]\n",
    "    # read dicom image\n",
    "    img = dcmread_image(fp = target_list[i], view = view_list[i])\n",
    "    # match the image in the box_table\n",
    "    col1 = box_table['StudyUID'] == path_table['StudyUID'][i]\n",
    "    col2 = box_table['View'] == view_list[i]\n",
    "    col_final = box_table[col1&col2]\n",
    "    if len(col_final)==0: # this image don't have nodule, save the mid slice\n",
    "        # this image don't have box\n",
    "        center_slice = int(img.shape[0]/2)\n",
    "        img_slice = img[center_slice]\n",
    "        slice_name = path_table['StudyUID'][i] + '_' + view_list[i] + '_' + str(center_slice) + '.png'\n",
    "        print(slice_name)\n",
    "        if side == 'r':\n",
    "            img_slice = img_slice[:,::-1]\n",
    "        imageio.imwrite(save_path + slice_name,img_slice) \n",
    "        df.loc[img_cnt] = [path_table['StudyUID'][i], view_list[i],save_path + slice_name, label_list['Normal'][i], label_list['Actionable'][i], label_list['Benign'][i], label_list['Cancer'][i]]\n",
    "        img_cnt += 1\n",
    "    else: # this image has nodules, choose the center slice which contains nodule\n",
    "        for j in range(len(col_final)):\n",
    "            slice_now = int(col_final['Slice'].iloc[j])\n",
    "            img_slice = img[slice_now]\n",
    "            slice_name = path_table['StudyUID'][i] + '_' + view_list[i] + '_' + str(slice_now) + '.png'\n",
    "            print(slice_name)\n",
    "            if side == 'r': # we flip all the breast in right side to left\n",
    "                img_slice = img_slice[:,::-1]\n",
    "            imageio.imwrite(save_path + slice_name,img_slice) \n",
    "            df.loc[img_cnt] = [path_table['StudyUID'][i], view_list[i],save_path + slice_name, label_list['Normal'][i], label_list['Actionable'][i], label_list['Benign'][i], label_list['Cancer'][i]]\n",
    "            img_cnt += 1\n",
    "    df.to_csv('table_list_slice.csv',index = False, header=True)"
   ]
  },
  {
   "cell_type": "markdown",
   "id": "be06d247-7721-49f2-9120-e664f04e9bd1",
   "metadata": {},
   "source": [
    "## make detection json file as ground truth"
   ]
  },
  {
   "cell_type": "code",
   "execution_count": null,
   "id": "cad71854-d7c3-4b80-8a0f-5340a96ab9dd",
   "metadata": {},
   "outputs": [],
   "source": [
    "label_list = pd.read_csv('train_labels.csv')\n",
    "col1 = label_list['Benign']==1\n",
    "col2 = label_list['Cancer']==1\n",
    "img_use = label_list[col1|col2] # we combine benign and cancer as the same type\n",
    "dataset_dicts = []\n",
    "save_dir = 'images/' + data_type\n",
    "i = 0 \n",
    "for id in img_use.index:\n",
    "    record = {}\n",
    "    ann = []\n",
    "    img_path = label_list['img_path'][id]\n",
    "    image = mmcv.imread(img_path)\n",
    "    # get box\n",
    "    col1 = box_table['StudyUID'] ==  label_list['StudyUID'][id]\n",
    "    col2 = box_table['View'] ==  label_list['view'][id]\n",
    "    #col3 = box_table['Slice'] == slice\n",
    "    col_final = box_table[col1&col2]\n",
    "    record[\"file_name\"] = img_path\n",
    "    record[\"image_id\"] = int(i)\n",
    "    record[\"height\"] = int(image.shape[0])\n",
    "    record[\"width\"] = int(image.shape[1])\n",
    "    for index,line in col_final.iterrows():\n",
    "        x = line['X']\n",
    "        y = line['Y']\n",
    "        Width = line['Width']\n",
    "        Height = line['Height']\n",
    "        side = line['View'][0]\n",
    "        if side == 'r':\n",
    "            x = image.shape[1]-1-x-Width\n",
    "        box = [int(x),int(y),int(x+Width), int(y+Height)]\n",
    "        obj = {'bbox':box, \n",
    "                   \"bbox_mode\": 0,\n",
    "                   \"segmentation\":[],\n",
    "                   \"category_id\": 0,}\n",
    "        ann.append(obj)\n",
    "    i +=1\n",
    "    record[\"annotations\"] = ann\n",
    "    dataset_dicts.append(record)\n",
    "new_dict = {}\n",
    "for i in dataset_dicts:\n",
    "    new_dict[i[\"file_name\"]] = i\n",
    "with open(save_dir+\"sample.json\", \"w\") as outfile: \n",
    "    json.dump(new_dict, outfile)"
   ]
  },
  {
   "cell_type": "markdown",
   "id": "54de223b-9333-4e00-909e-bc95efcfd359",
   "metadata": {},
   "source": [
    "## visualize the slices with bounding boxes"
   ]
  },
  {
   "cell_type": "code",
   "execution_count": null,
   "id": "48dfe705-913d-484c-9706-6531f8fd276b",
   "metadata": {},
   "outputs": [],
   "source": [
    "# draw with bounding box\n",
    "dataset_dicts = []\n",
    "save_dir = 'images/' + data_type\n",
    "i = 0 \n",
    "for id in img_use.index:\n",
    "    record = {}\n",
    "    ann = []\n",
    "    img_path = label_list['img_path'][id].replace('crop_val','val')\n",
    "    image = mmcv.imread(img_path)\n",
    "    fig, ax = plt.subplots()\n",
    "    ax.imshow(image,cmap='Greys_r')\n",
    "    # get box\n",
    "    box_table = pd.read_csv('bboxes_new.csv')\n",
    "    col1 = box_table['StudyUID'] ==  label_list['StudyUID'][id]\n",
    "    col2 = box_table['View'] ==  label_list['view'][id]\n",
    "    #col3 = box_table['Slice'] == slice\n",
    "    col_final = box_table[col1&col2]\n",
    "    for index,line in col_final.iterrows():\n",
    "        x = line['X']\n",
    "        y = line['Y']\n",
    "        Width = line['Width']\n",
    "        Height = line['Height']\n",
    "        side = line['View'][0]\n",
    "        if side == 'r':\n",
    "            x = image.shape[1]-1-x-Width\n",
    "        box = [int(x),int(y),int(x+Width), int(y+Height)]\n",
    "        rect = patches.Rectangle((x, y), Width,Height, linewidth=1, edgecolor='r', facecolor='none')\n",
    "        ax.add_patch(rect)\n",
    "    save_name = img_path.replace('train','train&box')\n",
    "    fig.savefig(save_name)"
   ]
  }
 ],
 "metadata": {
  "kernelspec": {
   "display_name": "Python 3",
   "language": "python",
   "name": "python3"
  },
  "language_info": {
   "codemirror_mode": {
    "name": "ipython",
    "version": 3
   },
   "file_extension": ".py",
   "mimetype": "text/x-python",
   "name": "python",
   "nbconvert_exporter": "python",
   "pygments_lexer": "ipython3",
   "version": "3.8.3"
  }
 },
 "nbformat": 4,
 "nbformat_minor": 5
}
