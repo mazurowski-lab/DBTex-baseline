{
 "cells": [
  {
   "cell_type": "code",
   "execution_count": null,
   "id": "c08da96a-0012-4a44-87c0-679639e5f2c3",
   "metadata": {},
   "outputs": [],
   "source": [
    "import pandas as pd\n",
    "from duke_dbt_data import dcmread_image\n",
    "import pydicom as dicom\n",
    "from typing import AnyStr, BinaryIO, Dict, List, NamedTuple, Optional, Union\n",
    "import matplotlib.pyplot as plt\n",
    "import numpy as np\n",
    "import imageio\n",
    "from PIL import Image, ImageOps\n",
    "# Check Pytorch installation\n",
    "import torch, torchvision\n",
    "print(torch.__version__, torch.cuda.is_available())\n",
    "\n",
    "# Check MMDetection installation\n",
    "import mmdet\n",
    "print(mmdet.__version__)\n",
    "from mmcv import Config\n",
    "import mmcv\n",
    "from mmdet.apis import set_random_seed\n",
    "# Check mmcv installation\n",
    "from mmcv.ops import get_compiling_cuda_version, get_compiler_version\n",
    "from mmcv.runner import load_checkpoint\n",
    "from mmdet.apis import multi_gpu_test, single_gpu_test\n",
    "print(get_compiling_cuda_version())\n",
    "print(get_compiler_version())\n",
    "from mmdet.datasets import build_dataset, build_dataloader\n",
    "from mmdet.models import build_detector\n",
    "from mmdet.apis import train_detector\n",
    "import copy\n",
    "import os.path as osp\n",
    "from mmcv.parallel import MMDataParallel\n",
    "import mmcv\n",
    "import numpy as np\n",
    "import json\n",
    "import os\n",
    "from mmdet.datasets.builder import DATASETS\n",
    "from mmdet.datasets.custom import CustomDataset\n",
    "from mmdet.apis import inference_detector, init_detector, show_result_pyplot\n",
    "from PIL import Image"
   ]
  },
  {
   "cell_type": "code",
   "execution_count": null,
   "id": "b2fd6343-87e8-44bf-9812-d9bcb8ae0891",
   "metadata": {},
   "outputs": [],
   "source": [
    "# read data path\n",
    "basic_path =  'the path to save dicom images' # the path to save the images\n",
    "csv_path ='./data_csv/'# the path to svae the labels and tables\n",
    "data_type =\"test\" # or val or test\n",
    "path_table = pd.DataFrame(pd.read_csv(csv_path +'BCS-DBT file-paths-'+ data_type + '.csv'))\n",
    "path_list = path_table['descriptive_path']\n",
    "view_list = path_table['View']\n",
    "target_list = basic_path + path_list"
   ]
  },
  {
   "cell_type": "code",
   "execution_count": null,
   "id": "9fdfbd59-c46b-45a5-a324-a9aa29ebc2fb",
   "metadata": {},
   "outputs": [],
   "source": [
    "# load the model\n",
    "cfg = Config.fromfile('../../configs/breast/faster_rcnn_r50_fpn_2x_breast.py')\n",
    "# Set up working dir to save files and logs.\n",
    "cfg.work_dir = '../../data/work_dirs/faster_rcnn_r50_fpn_2x_breast'\n",
    "checkpoint = cfg.work_dir +'/latest.pth'\n",
    "cfg.model.train_cfg = None\n",
    "model = build_detector(cfg.model, test_cfg=cfg.get('test_cfg'))\n",
    "checkpoint = load_checkpoint(model, checkpoint, map_location='cpu')\n",
    "model.CLASSES = checkpoint['meta']['CLASSES']\n",
    "model = MMDataParallel(model, device_ids=[2])\n",
    "model.cfg = cfg\n",
    "#result = inference_detector(model, img_slice_rgb)\n",
    "#show_result_pyplot(model, img_slice_rgb, result,score_thr=0.5)"
   ]
  },
  {
   "cell_type": "markdown",
   "id": "7b485e42-e1e9-48a2-b78c-1303c9161b01",
   "metadata": {},
   "source": [
    "# reproduce the final results table"
   ]
  },
  {
   "cell_type": "code",
   "execution_count": null,
   "id": "16df5ae4-3a34-47b3-9428-65b3b99a2507",
   "metadata": {},
   "outputs": [],
   "source": [
    "df = pd.DataFrame(columns = ['PatientID','StudyUID','View','X','Width','Y','Height','Z','Depth','Score'])\n",
    "conf_thre = 0.1\n",
    "line_cnt = 0\n",
    "for i in range(len(target_list)):\n",
    "    # get the side of this image, the first letter\n",
    "    side = view_list[i][0]\n",
    "    # read dicom image\n",
    "    img = dcmread_image(fp = target_list[i], view = view_list[i])\n",
    "    patient_id = path_table['PatientID'][i]\n",
    "    study_id = path_table['StudyUID'][i]\n",
    "    view = path_table['View'][i]\n",
    "    for slice_now in range(img.shape[0]):\n",
    "        img_slice = img[slice_now]\n",
    "        if side == 'r':\n",
    "            img_slice = img_slice[:,::-1]\n",
    "        img_slice = np.array(img_slice*255.0/65535.0, dtype=np.uint8)\n",
    "        img_slice_rgb = np.zeros((img_slice.shape[0],img_slice.shape[1],3),dtype=np.uint8)\n",
    "        img_slice_rgb[:,:,0] = img_slice_rgb[:,:,1] = img_slice_rgb[:,:,2] = img_slice\n",
    "        result = inference_detector(model, img_slice_rgb)[0]\n",
    "        for det_box in result:\n",
    "            conf_score = det_box[-1]\n",
    "            if conf_score>conf_thre:\n",
    "                line_cnt +=1\n",
    "                X = int(det_box[0])\n",
    "                Y = int(det_box[1])\n",
    "                Width = int(det_box[2] - det_box[0])\n",
    "                Height = int(det_box[3] - det_box[1])\n",
    "                if side == 'r':\n",
    "                    X = img_slice.shape[1]-1-X-Width\n",
    "                df.loc[line_cnt] = [patient_id, study_id, view, X,Width, Y,Height,slice_now,-1,conf_score]\n",
    "    df.to_csv(r'faster_rcnn_test_table_new.csv',index = False, header=True)"
   ]
  }
 ],
 "metadata": {
  "kernelspec": {
   "display_name": "Python 3",
   "language": "python",
   "name": "python3"
  },
  "language_info": {
   "codemirror_mode": {
    "name": "ipython",
    "version": 3
   },
   "file_extension": ".py",
   "mimetype": "text/x-python",
   "name": "python",
   "nbconvert_exporter": "python",
   "pygments_lexer": "ipython3",
   "version": "3.8.3"
  }
 },
 "nbformat": 4,
 "nbformat_minor": 5
}
